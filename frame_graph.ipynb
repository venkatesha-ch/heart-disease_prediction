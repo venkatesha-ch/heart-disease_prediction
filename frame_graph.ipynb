{
 "cells": [
  {
   "cell_type": "code",
   "execution_count": 1,
   "metadata": {},
   "outputs": [],
   "source": [
    "import seaborn as sns\n",
    "import pandas as pd\n",
    "import tkinter as tk\n",
    "from tkinter import *\n",
    "import matplotlib\n",
    "import matplotlib.pyplot as plt\n",
    "from matplotlib.figure import Figure\n",
    "matplotlib.use('TkAgg')\n",
    "from matplotlib.backends.backend_tkagg import FigureCanvasTkAgg\n",
    "\n",
    "root = Tk()\n",
    "root.geometry(\"300x300\")\n",
    "def graph():\n",
    "    data = pd.read_csv(\"data.csv\")\n",
    "    data1 = data[\"target\"]\n",
    "    x = [2, 3, 4, 5]\n",
    "    y = [4, 5, 6, 7]\n",
    "    fig = plt.Figure(figsize = (6,6))\n",
    "    a = fig.add_subplot(111)\n",
    "    plt.plot(x, y, color = 'red', marker = 'o', markerfacecolor = 'black')\n",
    "    plt.xlabel(\"x-axis\")\n",
    "    plt.ylabel(\"y-axis\")\n",
    "    plt.title(\"Graph\")\n",
    "    sns.countplot(data1)\n",
    "    can = FigureCanvasTkAgg(fig,root)\n",
    "    can.get_tk_widget()\n",
    "    can.draw()\n",
    "    \n",
    "but = Button(root, text = \"clickme\", command = graph, font = 10)\n",
    "but.grid(column = 0, row = 0)\n",
    "root.mainloop()"
   ]
  },
  {
   "cell_type": "code",
   "execution_count": null,
   "metadata": {},
   "outputs": [],
   "source": []
  },
  {
   "cell_type": "code",
   "execution_count": null,
   "metadata": {},
   "outputs": [],
   "source": []
  },
  {
   "cell_type": "code",
   "execution_count": null,
   "metadata": {},
   "outputs": [],
   "source": []
  }
 ],
 "metadata": {
  "kernelspec": {
   "display_name": "Python 3",
   "language": "python",
   "name": "python3"
  },
  "language_info": {
   "codemirror_mode": {
    "name": "ipython",
    "version": 3
   },
   "file_extension": ".py",
   "mimetype": "text/x-python",
   "name": "python",
   "nbconvert_exporter": "python",
   "pygments_lexer": "ipython3",
   "version": "3.7.3"
  }
 },
 "nbformat": 4,
 "nbformat_minor": 2
}
